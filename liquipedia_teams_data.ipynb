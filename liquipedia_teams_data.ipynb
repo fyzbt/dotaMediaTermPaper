{
 "cells": [
  {
   "cell_type": "markdown",
   "metadata": {},
   "source": [
    "# Getting info on eSports teams from Liquipedia"
   ]
  },
  {
   "cell_type": "code",
   "execution_count": 1,
   "metadata": {},
   "outputs": [],
   "source": [
    "import pandas as pd\n",
    "import requests\n",
    "from bs4 import BeautifulSoup\n",
    "import html5lib\n",
    "\n",
    "from time import sleep"
   ]
  },
  {
   "cell_type": "code",
   "execution_count": 2,
   "metadata": {},
   "outputs": [],
   "source": [
    "continents_list = ['Americas', 'Europe', 'China']"
   ]
  },
  {
   "cell_type": "code",
   "execution_count": 3,
   "metadata": {},
   "outputs": [],
   "source": [
    "teams_links = []\n",
    "\n",
    "for cont in continents_list:\n",
    "    res = requests.get('https://liquipedia.net/dota2/Portal:Teams/{cont}'.format(cont=cont))\n",
    "    tree = BeautifulSoup(res.text, 'html5lib')\n",
    "    \n",
    "    for link in tree.find_all('span', class_='team-template-text'):\n",
    "        teams_links.append(link.a['href'])"
   ]
  },
  {
   "cell_type": "code",
   "execution_count": 4,
   "metadata": {},
   "outputs": [
    {
     "data": {
      "text/plain": [
       "49"
      ]
     },
     "execution_count": 4,
     "metadata": {},
     "output_type": "execute_result"
    }
   ],
   "source": [
    "len(teams_links)"
   ]
  },
  {
   "cell_type": "code",
   "execution_count": 5,
   "metadata": {},
   "outputs": [
    {
     "data": {
      "text/plain": [
       "'/dota2/CompLexity_Gaming'"
      ]
     },
     "execution_count": 5,
     "metadata": {},
     "output_type": "execute_result"
    }
   ],
   "source": [
    "teams_links[0]"
   ]
  },
  {
   "cell_type": "code",
   "execution_count": 68,
   "metadata": {},
   "outputs": [],
   "source": [
    "teams_data = {}\n",
    "\n",
    "for team in teams_links:\n",
    "    team_num = teams_links.index(team)\n",
    "    teams_data[team_num] = {}\n",
    "    \n",
    "    res = requests.get('https://liquipedia.net{team}'.format(team=team))\n",
    "    tree = BeautifulSoup(res.text, 'html5lib')\n",
    "    \n",
    "    name_raw = tree.find('h1', class_='firstHeading')\n",
    "    name = name_raw.text.replace('\\n\\t\\t\\t\\t\\t\\t\\t\\t','').replace('\\n\\t\\t\\t\\t\\t\\t\\t','')\n",
    "    teams_data[team_num].update({'name':name})\n",
    "    \n",
    "    # get meta data on teams\n",
    "    descr_box = tree.find('div', class_='fo-nttax-infobox wiki-bordercolor-light')\n",
    "    \n",
    "    # location\n",
    "    if descr_box.find(text='Location:') is not None:\n",
    "        loc_raw = descr_box.find(text='Location:')\n",
    "        loc = loc_raw.parent.parent.findNext('div').findNext('div').a.get('title')\n",
    "        teams_data[team_num].update({'location':loc})\n",
    "    else:\n",
    "        continue\n",
    "        \n",
    "    # region\n",
    "    if descr_box.find(text='Region:') is not None:\n",
    "        reg_raw = descr_box.find(text='Region:')\n",
    "        reg = reg_raw.parent.parent.findNext('div').findNext('div').a.get('title')\n",
    "        teams_data[team_num].update({'region':reg})\n",
    "    else:\n",
    "        continue\n",
    "        \n",
    "    # manager_from\n",
    "    if descr_box.find(text='Manager:') is not None:\n",
    "        manag_from_raw = descr_box.find(text='Manager:')\n",
    "        manag_from = manag_from_raw.parent.parent.findNext('div').findNext('div').a.get('title')\n",
    "        teams_data[team_num].update({'manager_from':manag_from})\n",
    "    else: \n",
    "        continue\n",
    "        \n",
    "    # manager\n",
    "    if descr_box.find(text='Manager:') is not None:\n",
    "        manag_raw = descr_box.find(text='Manager:')\n",
    "        manag = manag_raw.parent.parent.findNext('div').findNext('div').text\n",
    "        teams_data[team_num].update({'manager':manag})\n",
    "    else:\n",
    "        continue\n",
    "        \n",
    "    # earnings\n",
    "    if descr_box.find(text='Total Earnings:') is not None:\n",
    "        earn_raw = descr_box.find(text='Total Earnings:')\n",
    "        earn = earn_raw.parent.parent.findNext('div').findNext('div').text\n",
    "        earn = int(earn.replace('$', '').replace(',', ''))\n",
    "        teams_data[team_num].update({'total_earnings':earn})\n",
    "    else:\n",
    "        continue\n",
    "    \n",
    "    # rank\n",
    "    if descr_box.find(text='Pro Circuit Rank:') is not None: \n",
    "        rank_raw = descr_box.find(text='Pro Circuit Rank:')\n",
    "        rank_raw = rank_raw.parent.parent.findNext('div').findNext('div').a.text\n",
    "        sep = '\\xa0('\n",
    "        rank = int(rank_raw.split(sep, 1)[0].replace('#','').replace('–','0'))\n",
    "        points = int(rank_raw.split(sep, 1)[1].replace(' points)','').replace(' point)',''))\n",
    "        teams_data[team_num].update({'rank':rank, 'points':points})\n",
    "    else:\n",
    "        continue\n",
    "    \n",
    "    # created\n",
    "    if descr_box.find(text='Created:') is not None:\n",
    "        create_raw = descr_box.find(text='Created:')\n",
    "        create = create_raw.parent.parent.findNext('div').findNext('div').text\n",
    "        teams_data[team_num].update({'created_year':create})\n",
    "    else:\n",
    "        continue\n",
    "    "
   ]
  },
  {
   "cell_type": "code",
   "execution_count": 69,
   "metadata": {},
   "outputs": [],
   "source": [
    "teams_df = pd.DataFrame.from_dict(teams_data).T"
   ]
  },
  {
   "cell_type": "code",
   "execution_count": 71,
   "metadata": {},
   "outputs": [
    {
     "data": {
      "text/html": [
       "<div>\n",
       "<style scoped>\n",
       "    .dataframe tbody tr th:only-of-type {\n",
       "        vertical-align: middle;\n",
       "    }\n",
       "\n",
       "    .dataframe tbody tr th {\n",
       "        vertical-align: top;\n",
       "    }\n",
       "\n",
       "    .dataframe thead th {\n",
       "        text-align: right;\n",
       "    }\n",
       "</style>\n",
       "<table border=\"1\" class=\"dataframe\">\n",
       "  <thead>\n",
       "    <tr style=\"text-align: right;\">\n",
       "      <th></th>\n",
       "      <th>created_year</th>\n",
       "      <th>location</th>\n",
       "      <th>manager</th>\n",
       "      <th>manager_from</th>\n",
       "      <th>name</th>\n",
       "      <th>points</th>\n",
       "      <th>rank</th>\n",
       "      <th>region</th>\n",
       "      <th>total_earnings</th>\n",
       "    </tr>\n",
       "  </thead>\n",
       "  <tbody>\n",
       "    <tr>\n",
       "      <th>0</th>\n",
       "      <td>Organization: 2003Dota 2: 2012-02-16</td>\n",
       "      <td>USA</td>\n",
       "      <td>Joshua Schmidt</td>\n",
       "      <td>USA</td>\n",
       "      <td>compLexity Gaming</td>\n",
       "      <td>135</td>\n",
       "      <td>19</td>\n",
       "      <td>North America</td>\n",
       "      <td>825959</td>\n",
       "    </tr>\n",
       "    <tr>\n",
       "      <th>1</th>\n",
       "      <td>Organization: 1999Dota 2: 2011-10-24</td>\n",
       "      <td>USA</td>\n",
       "      <td>Phillip Aram</td>\n",
       "      <td>USA</td>\n",
       "      <td>Evil Geniuses</td>\n",
       "      <td>1335</td>\n",
       "      <td>11</td>\n",
       "      <td>North America</td>\n",
       "      <td>15144669</td>\n",
       "    </tr>\n",
       "    <tr>\n",
       "      <th>2</th>\n",
       "      <td>Organization: 2015-10-07Dota 2: 2017-09-13</td>\n",
       "      <td>USA</td>\n",
       "      <td>Josh Arkin</td>\n",
       "      <td>USA</td>\n",
       "      <td>Immortals</td>\n",
       "      <td>90</td>\n",
       "      <td>21</td>\n",
       "      <td>North America</td>\n",
       "      <td>47500</td>\n",
       "    </tr>\n",
       "    <tr>\n",
       "      <th>3</th>\n",
       "      <td>Organization: 2006Dota 2: 2017-09-26</td>\n",
       "      <td>USA</td>\n",
       "      <td>Kodiak Shroyer</td>\n",
       "      <td>USA</td>\n",
       "      <td>OpTic Gaming</td>\n",
       "      <td>1800</td>\n",
       "      <td>9</td>\n",
       "      <td>North America</td>\n",
       "      <td>495800</td>\n",
       "    </tr>\n",
       "    <tr>\n",
       "      <th>4</th>\n",
       "      <td>NaN</td>\n",
       "      <td>USA</td>\n",
       "      <td>KBBQ</td>\n",
       "      <td>USA</td>\n",
       "      <td>VGJ.Storm</td>\n",
       "      <td>NaN</td>\n",
       "      <td>NaN</td>\n",
       "      <td>North America</td>\n",
       "      <td>342000</td>\n",
       "    </tr>\n",
       "  </tbody>\n",
       "</table>\n",
       "</div>"
      ],
      "text/plain": [
       "                                 created_year location          manager  \\\n",
       "0        Organization: 2003Dota 2: 2012-02-16      USA   Joshua Schmidt   \n",
       "1        Organization: 1999Dota 2: 2011-10-24      USA     Phillip Aram   \n",
       "2  Organization: 2015-10-07Dota 2: 2017-09-13      USA       Josh Arkin   \n",
       "3        Organization: 2006Dota 2: 2017-09-26      USA   Kodiak Shroyer   \n",
       "4                                         NaN      USA             KBBQ   \n",
       "\n",
       "  manager_from               name points rank         region total_earnings  \n",
       "0          USA  compLexity Gaming    135   19  North America         825959  \n",
       "1          USA      Evil Geniuses   1335   11  North America       15144669  \n",
       "2          USA          Immortals     90   21  North America          47500  \n",
       "3          USA       OpTic Gaming   1800    9  North America         495800  \n",
       "4          USA          VGJ.Storm    NaN  NaN  North America         342000  "
      ]
     },
     "execution_count": 71,
     "metadata": {},
     "output_type": "execute_result"
    }
   ],
   "source": [
    "teams_df.head()"
   ]
  },
  {
   "cell_type": "code",
   "execution_count": null,
   "metadata": {},
   "outputs": [],
   "source": []
  }
 ],
 "metadata": {
  "kernelspec": {
   "display_name": "Python 3",
   "language": "python",
   "name": "python3"
  },
  "language_info": {
   "codemirror_mode": {
    "name": "ipython",
    "version": 3
   },
   "file_extension": ".py",
   "mimetype": "text/x-python",
   "name": "python",
   "nbconvert_exporter": "python",
   "pygments_lexer": "ipython3",
   "version": "3.6.4"
  }
 },
 "nbformat": 4,
 "nbformat_minor": 2
}
