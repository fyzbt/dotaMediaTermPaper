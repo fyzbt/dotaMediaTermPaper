{
 "cells": [
  {
   "cell_type": "markdown",
   "metadata": {},
   "source": [
    "# Getting info on eSports teams from Liquipedia"
   ]
  },
  {
   "cell_type": "code",
   "execution_count": 1,
   "metadata": {},
   "outputs": [],
   "source": [
    "import pandas as pd\n",
    "import requests\n",
    "from bs4 import BeautifulSoup\n",
    "import html5lib\n",
    "\n",
    "from time import sleep"
   ]
  },
  {
   "cell_type": "code",
   "execution_count": 18,
   "metadata": {},
   "outputs": [],
   "source": [
    "continents_list = ['Americas', 'Europe', 'China']"
   ]
  },
  {
   "cell_type": "code",
   "execution_count": 13,
   "metadata": {},
   "outputs": [],
   "source": [
    "teams_links = []\n",
    "\n",
    "for cont in continents_list:\n",
    "    res = requests.get('https://liquipedia.net/dota2/Portal:Teams/{cont}'.format(cont=cont))\n",
    "    tree = BeautifulSoup(res.text, 'html5lib')\n",
    "    \n",
    "    for link in tree.find_all('span', class_='team-template-text'):\n",
    "        teams_links.append(link.a['href'])"
   ]
  },
  {
   "cell_type": "code",
   "execution_count": 20,
   "metadata": {},
   "outputs": [
    {
     "data": {
      "text/plain": [
       "49"
      ]
     },
     "execution_count": 20,
     "metadata": {},
     "output_type": "execute_result"
    }
   ],
   "source": [
    "len(teams_links)"
   ]
  },
  {
   "cell_type": "code",
   "execution_count": 21,
   "metadata": {},
   "outputs": [
    {
     "data": {
      "text/plain": [
       "'/dota2/CompLexity_Gaming'"
      ]
     },
     "execution_count": 21,
     "metadata": {},
     "output_type": "execute_result"
    }
   ],
   "source": [
    "teams_links[0]"
   ]
  },
  {
   "cell_type": "code",
   "execution_count": 109,
   "metadata": {},
   "outputs": [],
   "source": [
    "teams_data = {}\n",
    "\n",
    "def vals_finder(css_class):\n",
    "    return css_class is not None and 'infobox-cell-2' in css_class and 'infobox-description' not in css_class\n",
    "\n",
    "for team in teams_links:\n",
    "    team_num = teams_links.index(team)\n",
    "    teams_data[team_num] = {}\n",
    "    \n",
    "    res = requests.get('https://liquipedia.net{team}'.format(team=team))\n",
    "    tree = BeautifulSoup(res.text, 'html5lib')\n",
    "    \n",
    "    name_raw = tree.find('h1', class_='firstHeading')\n",
    "    name = name_raw.text\n",
    "    teams_data[team_num].update({'name':name})\n",
    "    \n",
    "    # get meta data on teams\n",
    "    descr_box = tree.find('div', class_='fo-nttax-infobox wiki-bordercolor-light')\n",
    "    for descr in descr_box.find_all('div'):\n",
    "        keys = []\n",
    "        vals = []\n",
    "        \n",
    "        for key in descr_box.find_all(class_='infobox-cell-2 infobox-description'):\n",
    "            keys.append(key.text)\n",
    "        for val in descr_box.find_all(class_=vals_finder)[1::2]:\n",
    "            items = []\n",
    "            \n",
    "            if val.find('a') is not None:\n",
    "                items.append(val.a.text)\n",
    "                \n",
    "            if val.find('a') is not None and val.a.text is None and val.text is None:\n",
    "                items.append(val.a.get('title'))\n",
    "            \n",
    "            elif val.find_all('a') is not None:\n",
    "                for a in (val.find_all('a')):\n",
    "                    items.append(val.a.text)\n",
    "            \n",
    "            elif val.text is not None:\n",
    "                items.append(val.text)\n",
    "            \n",
    "            vals.append(items)\n",
    "        \n",
    "        keys_vals = dict(zip(keys, vals))\n",
    "        teams_data[team_num].update(keys_vals)\n",
    "            "
   ]
  },
  {
   "cell_type": "code",
   "execution_count": 111,
   "metadata": {},
   "outputs": [
    {
     "data": {
      "text/plain": [
       "9"
      ]
     },
     "execution_count": 111,
     "metadata": {},
     "output_type": "execute_result"
    }
   ],
   "source": [
    "teams_data = {}\n",
    "\n",
    "def vals_finder(css_class):\n",
    "    return css_class is not None and 'infobox-cell-2' in css_class and 'infobox-description' not in css_class\n",
    "\n",
    "for team in teams_links:\n",
    "    team_num = teams_links.index(team)\n",
    "    teams_data[team_num] = {}\n",
    "    \n",
    "    res = requests.get('https://liquipedia.net{team}'.format(team=team))\n",
    "    tree = BeautifulSoup(res.text, 'html5lib')\n",
    "    \n",
    "    name_raw = tree.find('h1', class_='firstHeading')\n",
    "    name = name_raw.text\n",
    "    teams_data[team_num].update({'name':name})\n",
    "    \n",
    "    # get meta data on teams\n",
    "    descr_box = tree.find('div', class_='fo-nttax-infobox wiki-bordercolor-light')\n",
    "    for descr in descr_box.find_all('div'):"
   ]
  },
  {
   "cell_type": "code",
   "execution_count": 112,
   "metadata": {},
   "outputs": [
    {
     "data": {
      "text/plain": [
       "8"
      ]
     },
     "execution_count": 112,
     "metadata": {},
     "output_type": "execute_result"
    }
   ],
   "source": [
    "len(keys)"
   ]
  },
  {
   "cell_type": "code",
   "execution_count": 23,
   "metadata": {},
   "outputs": [],
   "source": [
    "tree.find('h1', class_='firstHeading')"
   ]
  },
  {
   "cell_type": "code",
   "execution_count": 29,
   "metadata": {},
   "outputs": [
    {
     "data": {
      "text/plain": [
       "[]"
      ]
     },
     "execution_count": 29,
     "metadata": {},
     "output_type": "execute_result"
    }
   ],
   "source": [
    "descr.find_all(class_='infobox-cell-2 infobox-description')"
   ]
  },
  {
   "cell_type": "code",
   "execution_count": 37,
   "metadata": {},
   "outputs": [
    {
     "data": {
      "text/plain": [
       "'Location:'"
      ]
     },
     "execution_count": 37,
     "metadata": {},
     "output_type": "execute_result"
    }
   ],
   "source": [
    "descr_box.find_all(class_='infobox-cell-2')[0]"
   ]
  },
  {
   "cell_type": "code",
   "execution_count": 42,
   "metadata": {},
   "outputs": [
    {
     "data": {
      "text/plain": [
       "True"
      ]
     },
     "execution_count": 42,
     "metadata": {},
     "output_type": "execute_result"
    }
   ],
   "source": [
    "vals_finder('infobox-cell-2')"
   ]
  },
  {
   "cell_type": "code",
   "execution_count": 44,
   "metadata": {
    "collapsed": true
   },
   "outputs": [
    {
     "ename": "TypeError",
     "evalue": "argument of type 'NoneType' is not iterable",
     "output_type": "error",
     "traceback": [
      "\u001b[0;31m---------------------------------------------------------------------------\u001b[0m",
      "\u001b[0;31mTypeError\u001b[0m                                 Traceback (most recent call last)",
      "\u001b[0;32m<ipython-input-44-ce420c1da29e>\u001b[0m in \u001b[0;36m<module>\u001b[0;34m()\u001b[0m\n\u001b[0;32m----> 1\u001b[0;31m \u001b[0mdescr_box\u001b[0m\u001b[0;34m.\u001b[0m\u001b[0mfind_all\u001b[0m\u001b[0;34m(\u001b[0m\u001b[0mclass_\u001b[0m\u001b[0;34m=\u001b[0m\u001b[0mvals_finder\u001b[0m\u001b[0;34m)\u001b[0m\u001b[0;34m\u001b[0m\u001b[0m\n\u001b[0m",
      "\u001b[0;32m/Library/Frameworks/Python.framework/Versions/3.6/lib/python3.6/site-packages/bs4/element.py\u001b[0m in \u001b[0;36mfind_all\u001b[0;34m(self, name, attrs, recursive, text, limit, **kwargs)\u001b[0m\n\u001b[1;32m   1311\u001b[0m         \u001b[0;32mif\u001b[0m \u001b[0;32mnot\u001b[0m \u001b[0mrecursive\u001b[0m\u001b[0;34m:\u001b[0m\u001b[0;34m\u001b[0m\u001b[0m\n\u001b[1;32m   1312\u001b[0m             \u001b[0mgenerator\u001b[0m \u001b[0;34m=\u001b[0m \u001b[0mself\u001b[0m\u001b[0;34m.\u001b[0m\u001b[0mchildren\u001b[0m\u001b[0;34m\u001b[0m\u001b[0m\n\u001b[0;32m-> 1313\u001b[0;31m         \u001b[0;32mreturn\u001b[0m \u001b[0mself\u001b[0m\u001b[0;34m.\u001b[0m\u001b[0m_find_all\u001b[0m\u001b[0;34m(\u001b[0m\u001b[0mname\u001b[0m\u001b[0;34m,\u001b[0m \u001b[0mattrs\u001b[0m\u001b[0;34m,\u001b[0m \u001b[0mtext\u001b[0m\u001b[0;34m,\u001b[0m \u001b[0mlimit\u001b[0m\u001b[0;34m,\u001b[0m \u001b[0mgenerator\u001b[0m\u001b[0;34m,\u001b[0m \u001b[0;34m**\u001b[0m\u001b[0mkwargs\u001b[0m\u001b[0;34m)\u001b[0m\u001b[0;34m\u001b[0m\u001b[0m\n\u001b[0m\u001b[1;32m   1314\u001b[0m     \u001b[0mfindAll\u001b[0m \u001b[0;34m=\u001b[0m \u001b[0mfind_all\u001b[0m       \u001b[0;31m# BS3\u001b[0m\u001b[0;34m\u001b[0m\u001b[0m\n\u001b[1;32m   1315\u001b[0m     \u001b[0mfindChildren\u001b[0m \u001b[0;34m=\u001b[0m \u001b[0mfind_all\u001b[0m  \u001b[0;31m# BS2\u001b[0m\u001b[0;34m\u001b[0m\u001b[0m\n",
      "\u001b[0;32m/Library/Frameworks/Python.framework/Versions/3.6/lib/python3.6/site-packages/bs4/element.py\u001b[0m in \u001b[0;36m_find_all\u001b[0;34m(self, name, attrs, text, limit, generator, **kwargs)\u001b[0m\n\u001b[1;32m    554\u001b[0m                 \u001b[0;32mbreak\u001b[0m\u001b[0;34m\u001b[0m\u001b[0m\n\u001b[1;32m    555\u001b[0m             \u001b[0;32mif\u001b[0m \u001b[0mi\u001b[0m\u001b[0;34m:\u001b[0m\u001b[0;34m\u001b[0m\u001b[0m\n\u001b[0;32m--> 556\u001b[0;31m                 \u001b[0mfound\u001b[0m \u001b[0;34m=\u001b[0m \u001b[0mstrainer\u001b[0m\u001b[0;34m.\u001b[0m\u001b[0msearch\u001b[0m\u001b[0;34m(\u001b[0m\u001b[0mi\u001b[0m\u001b[0;34m)\u001b[0m\u001b[0;34m\u001b[0m\u001b[0m\n\u001b[0m\u001b[1;32m    557\u001b[0m                 \u001b[0;32mif\u001b[0m \u001b[0mfound\u001b[0m\u001b[0;34m:\u001b[0m\u001b[0;34m\u001b[0m\u001b[0m\n\u001b[1;32m    558\u001b[0m                     \u001b[0mresults\u001b[0m\u001b[0;34m.\u001b[0m\u001b[0mappend\u001b[0m\u001b[0;34m(\u001b[0m\u001b[0mfound\u001b[0m\u001b[0;34m)\u001b[0m\u001b[0;34m\u001b[0m\u001b[0m\n",
      "\u001b[0;32m/Library/Frameworks/Python.framework/Versions/3.6/lib/python3.6/site-packages/bs4/element.py\u001b[0m in \u001b[0;36msearch\u001b[0;34m(self, markup)\u001b[0m\n\u001b[1;32m   1702\u001b[0m         \u001b[0;32melif\u001b[0m \u001b[0misinstance\u001b[0m\u001b[0;34m(\u001b[0m\u001b[0mmarkup\u001b[0m\u001b[0;34m,\u001b[0m \u001b[0mTag\u001b[0m\u001b[0;34m)\u001b[0m\u001b[0;34m:\u001b[0m\u001b[0;34m\u001b[0m\u001b[0m\n\u001b[1;32m   1703\u001b[0m             \u001b[0;32mif\u001b[0m \u001b[0;32mnot\u001b[0m \u001b[0mself\u001b[0m\u001b[0;34m.\u001b[0m\u001b[0mtext\u001b[0m \u001b[0;32mor\u001b[0m \u001b[0mself\u001b[0m\u001b[0;34m.\u001b[0m\u001b[0mname\u001b[0m \u001b[0;32mor\u001b[0m \u001b[0mself\u001b[0m\u001b[0;34m.\u001b[0m\u001b[0mattrs\u001b[0m\u001b[0;34m:\u001b[0m\u001b[0;34m\u001b[0m\u001b[0m\n\u001b[0;32m-> 1704\u001b[0;31m                 \u001b[0mfound\u001b[0m \u001b[0;34m=\u001b[0m \u001b[0mself\u001b[0m\u001b[0;34m.\u001b[0m\u001b[0msearch_tag\u001b[0m\u001b[0;34m(\u001b[0m\u001b[0mmarkup\u001b[0m\u001b[0;34m)\u001b[0m\u001b[0;34m\u001b[0m\u001b[0m\n\u001b[0m\u001b[1;32m   1705\u001b[0m         \u001b[0;31m# If it's text, make sure the text matches.\u001b[0m\u001b[0;34m\u001b[0m\u001b[0;34m\u001b[0m\u001b[0m\n\u001b[1;32m   1706\u001b[0m         \u001b[0;32melif\u001b[0m \u001b[0misinstance\u001b[0m\u001b[0;34m(\u001b[0m\u001b[0mmarkup\u001b[0m\u001b[0;34m,\u001b[0m \u001b[0mNavigableString\u001b[0m\u001b[0;34m)\u001b[0m \u001b[0;32mor\u001b[0m\u001b[0;31m \u001b[0m\u001b[0;31m\\\u001b[0m\u001b[0;34m\u001b[0m\u001b[0m\n",
      "\u001b[0;32m/Library/Frameworks/Python.framework/Versions/3.6/lib/python3.6/site-packages/bs4/element.py\u001b[0m in \u001b[0;36msearch_tag\u001b[0;34m(self, markup_name, markup_attrs)\u001b[0m\n\u001b[1;32m   1674\u001b[0m                                 \u001b[0mmarkup_attr_map\u001b[0m\u001b[0;34m[\u001b[0m\u001b[0mk\u001b[0m\u001b[0;34m]\u001b[0m \u001b[0;34m=\u001b[0m \u001b[0mv\u001b[0m\u001b[0;34m\u001b[0m\u001b[0m\n\u001b[1;32m   1675\u001b[0m                     \u001b[0mattr_value\u001b[0m \u001b[0;34m=\u001b[0m \u001b[0mmarkup_attr_map\u001b[0m\u001b[0;34m.\u001b[0m\u001b[0mget\u001b[0m\u001b[0;34m(\u001b[0m\u001b[0mattr\u001b[0m\u001b[0;34m)\u001b[0m\u001b[0;34m\u001b[0m\u001b[0m\n\u001b[0;32m-> 1676\u001b[0;31m                     \u001b[0;32mif\u001b[0m \u001b[0;32mnot\u001b[0m \u001b[0mself\u001b[0m\u001b[0;34m.\u001b[0m\u001b[0m_matches\u001b[0m\u001b[0;34m(\u001b[0m\u001b[0mattr_value\u001b[0m\u001b[0;34m,\u001b[0m \u001b[0mmatch_against\u001b[0m\u001b[0;34m)\u001b[0m\u001b[0;34m:\u001b[0m\u001b[0;34m\u001b[0m\u001b[0m\n\u001b[0m\u001b[1;32m   1677\u001b[0m                         \u001b[0mmatch\u001b[0m \u001b[0;34m=\u001b[0m \u001b[0;32mFalse\u001b[0m\u001b[0;34m\u001b[0m\u001b[0m\n\u001b[1;32m   1678\u001b[0m                         \u001b[0;32mbreak\u001b[0m\u001b[0;34m\u001b[0m\u001b[0m\n",
      "\u001b[0;32m/Library/Frameworks/Python.framework/Versions/3.6/lib/python3.6/site-packages/bs4/element.py\u001b[0m in \u001b[0;36m_matches\u001b[0;34m(self, markup, match_against, already_tried)\u001b[0m\n\u001b[1;32m   1734\u001b[0m \u001b[0;34m\u001b[0m\u001b[0m\n\u001b[1;32m   1735\u001b[0m         \u001b[0;32mif\u001b[0m \u001b[0misinstance\u001b[0m\u001b[0;34m(\u001b[0m\u001b[0mmatch_against\u001b[0m\u001b[0;34m,\u001b[0m \u001b[0mcollections\u001b[0m\u001b[0;34m.\u001b[0m\u001b[0mCallable\u001b[0m\u001b[0;34m)\u001b[0m\u001b[0;34m:\u001b[0m\u001b[0;34m\u001b[0m\u001b[0m\n\u001b[0;32m-> 1736\u001b[0;31m             \u001b[0;32mreturn\u001b[0m \u001b[0mmatch_against\u001b[0m\u001b[0;34m(\u001b[0m\u001b[0mmarkup\u001b[0m\u001b[0;34m)\u001b[0m\u001b[0;34m\u001b[0m\u001b[0m\n\u001b[0m\u001b[1;32m   1737\u001b[0m \u001b[0;34m\u001b[0m\u001b[0m\n\u001b[1;32m   1738\u001b[0m         \u001b[0;31m# Custom callables take the tag as an argument, but all\u001b[0m\u001b[0;34m\u001b[0m\u001b[0;34m\u001b[0m\u001b[0m\n",
      "\u001b[0;32m<ipython-input-40-eed4f5a12acb>\u001b[0m in \u001b[0;36mvals_finder\u001b[0;34m(css_class)\u001b[0m\n\u001b[1;32m      2\u001b[0m \u001b[0;34m\u001b[0m\u001b[0m\n\u001b[1;32m      3\u001b[0m \u001b[0;32mdef\u001b[0m \u001b[0mvals_finder\u001b[0m\u001b[0;34m(\u001b[0m\u001b[0mcss_class\u001b[0m\u001b[0;34m)\u001b[0m\u001b[0;34m:\u001b[0m\u001b[0;34m\u001b[0m\u001b[0m\n\u001b[0;32m----> 4\u001b[0;31m     \u001b[0;32mreturn\u001b[0m \u001b[0;34m'infobox-description'\u001b[0m \u001b[0;32mnot\u001b[0m \u001b[0;32min\u001b[0m \u001b[0mcss_class\u001b[0m \u001b[0;32mand\u001b[0m \u001b[0;34m'infobox-cell-2'\u001b[0m \u001b[0;32min\u001b[0m \u001b[0mcss_class\u001b[0m\u001b[0;34m\u001b[0m\u001b[0m\n\u001b[0m\u001b[1;32m      5\u001b[0m \u001b[0;34m\u001b[0m\u001b[0m\n\u001b[1;32m      6\u001b[0m \u001b[0;32mfor\u001b[0m \u001b[0mteam\u001b[0m \u001b[0;32min\u001b[0m \u001b[0mteams_links\u001b[0m\u001b[0;34m:\u001b[0m\u001b[0;34m\u001b[0m\u001b[0m\n",
      "\u001b[0;31mTypeError\u001b[0m: argument of type 'NoneType' is not iterable"
     ]
    }
   ],
   "source": [
    "descr_box.find_all(class_=vals_finder)"
   ]
  },
  {
   "cell_type": "code",
   "execution_count": 45,
   "metadata": {
    "collapsed": true
   },
   "outputs": [
    {
     "data": {
      "text/plain": [
       "<div class=\"fo-nttax-infobox wiki-bordercolor-light\">\n",
       "<div>\n",
       "<div class=\"infobox-header wiki-backgroundcolor-light\"><span class=\"infobox-buttons\">[<a class=\"external text\" href=\"https://liquipedia.net/dota2/index.php?title=CompLexity_Gaming&amp;action=edit&amp;section=0\" rel=\"nofollow noreferrer noopener\" target=\"_blank\">e</a>][<a href=\"/dota2/Template:Infobox_team\" title=\"Template:Infobox team\">h</a>]</span>compLexity Gaming</div>\n",
       "</div><div>\n",
       "<div class=\"infobox-image\"><div class=\"center\"><div class=\"floatnone\"><a class=\"image\" href=\"/dota2/File:Col_big_logo.png\"><img alt=\"\" height=\"495\" src=\"/commons/images/thumb/f/f4/Col_big_logo.png/600px-Col_big_logo.png\" srcset=\"/commons/images/thumb/f/f4/Col_big_logo.png/900px-Col_big_logo.png 1.5x, /commons/images/f/f4/Col_big_logo.png 2x\" width=\"600\"/></a></div></div></div>\n",
       "</div><div>\n",
       "<div class=\"infobox-header wiki-backgroundcolor-light infobox-header-2\">Team Information</div>\n",
       "</div><div>\n",
       "<div class=\"infobox-cell-2 infobox-description\">Location:</div>\n",
       "<div class=\"infobox-cell-2\"><a href=\"/dota2/Category:United_States\" title=\"USA\"><img alt=\"USA\" height=\"12\" src=\"/commons/images/2/2f/Us.png\" width=\"18\"/></a> <a href=\"/dota2/Category:United_States\" title=\"Category:United States\">United States</a></div>\n",
       "</div><div>\n",
       "<div class=\"infobox-cell-2 infobox-description\">Region:</div>\n",
       "<div class=\"infobox-cell-2\"><a href=\"/dota2/Category:North_America\" title=\"North America\"><img alt=\"North America\" height=\"12\" src=\"/commons/images/5/57/North_America.png\" width=\"18\"/></a> <a href=\"/dota2/Category:North_America\" title=\"Category:North America\">North America</a></div>\n",
       "</div><div>\n",
       "<div class=\"infobox-cell-2 infobox-description\">Manager:</div>\n",
       "<div class=\"infobox-cell-2\"><a href=\"/dota2/Category:United_States\" title=\"USA\"><img alt=\"USA\" height=\"12\" src=\"/commons/images/2/2f/Us.png\" width=\"18\"/></a> Joshua Schmidt</div>\n",
       "</div><div>\n",
       "<div class=\"infobox-cell-2 infobox-description\">Team Captain:</div>\n",
       "<div class=\"infobox-cell-2\"><a href=\"/dota2/Category:Malaysia\" title=\"Malaysia\"><img alt=\"Malaysia\" height=\"12\" src=\"/commons/images/1/1f/My.png\" width=\"18\"/></a> <a class=\"mw-redirect\" href=\"/dota2/Adam\" title=\"Adam\">Adam</a></div>\n",
       "</div><div>\n",
       "<div class=\"infobox-cell-2 infobox-description\">Sponsor:</div>\n",
       "<div class=\"infobox-cell-2\"><a class=\"external text\" href=\"http://www.soundblaster.com/\" rel=\"nofollow noreferrer noopener\" target=\"_blank\">SoundBlaster</a><br/><a class=\"external text\" href=\"https://www.twitch.tv/\" rel=\"noreferrer noopener\" target=\"_blank\">Twitch</a><br/><a class=\"external text\" href=\"http://creative.com/\" rel=\"nofollow noreferrer noopener\" target=\"_blank\">Creative</a><br/><a class=\"external text\" href=\"https://antlionaudio.com/collections/modmic-for-gaming/?utm_campaign=Summer&amp;utm_medium=Youtube&amp;utm_source=EposVox\" rel=\"nofollow noreferrer noopener\" target=\"_blank\">ModMic</a><br/><a class=\"external text\" href=\"http://www.fadecase.com/\" rel=\"nofollow noreferrer noopener\" target=\"_blank\">Fadecase</a></div>\n",
       "</div><div>\n",
       "<div class=\"infobox-cell-2 infobox-description\">Total Earnings:</div>\n",
       "<div class=\"infobox-cell-2\">$825,959</div>\n",
       "</div><div>\n",
       "<div class=\"infobox-cell-2 infobox-description\">Pro Circuit Rank:</div>\n",
       "<div class=\"infobox-cell-2\"><a href=\"/dota2/Dota_Pro_Circuit/Rankings/Teams\" title=\"Dota Pro Circuit/Rankings/Teams\">#19 (135 points)</a></div>\n",
       "</div><div>\n",
       "<div class=\"infobox-header wiki-backgroundcolor-light infobox-header-2\">Links</div>\n",
       "</div>\n",
       "<div>\n",
       "<div class=\"infobox-center infobox-icons\"> <a class=\"external text\" href=\"http://www.complexitygaming.com/\" rel=\"nofollow noreferrer noopener\" target=\"_blank\"><i class=\"lp-icon lp-home\"></i></a>  <a class=\"external text\" href=\"https://facebook.com/ComplexityGaming\" rel=\"noreferrer noopener\" target=\"_blank\"><i class=\"lp-icon lp-facebook\"></i></a>   <a class=\"external text\" href=\"https://www.twitch.tv/team/complexity\" rel=\"noreferrer noopener\" target=\"_blank\"><i class=\"lp-icon lp-twitch\"></i></a>     <a class=\"external text\" href=\"https://twitter.com/compLexity\" rel=\"noreferrer noopener\" target=\"_blank\"><i class=\"lp-icon lp-twitter\"></i></a>    <a class=\"external text\" href=\"https://www.youtube.com/compLexityINSIDER\" rel=\"noreferrer noopener\" target=\"_blank\"><i class=\"lp-icon lp-youtube\"></i></a> <a class=\"external text\" href=\"https://www.instagram.com/complexitygaming\" rel=\"noreferrer noopener\" target=\"_blank\"><i class=\"lp-icon lp-instagram\"></i></a> <a class=\"external text\" href=\"https://www.liquiddota.com/forum/players-and-teams/467012-complexity-discussion\" rel=\"noreferrer noopener\" target=\"_blank\"><i class=\"lp-icon lp-fanclub\"></i></a>    <a class=\"external text\" href=\"https://www.dotabuff.com/esports/teams/3\" rel=\"noreferrer noopener\" target=\"_blank\"><i class=\"lp-icon lp-dotabuff\"></i></a> <a class=\"external text\" href=\"http://www.datdota.com/teams/3\" rel=\"noreferrer noopener\" target=\"_blank\"><i class=\"lp-icon lp-datdota\"></i></a></div>\n",
       "</div><div>\n",
       "<div class=\"infobox-header wiki-backgroundcolor-light infobox-header-2\">Achievements</div>\n",
       "</div>\n",
       "<div>\n",
       "<div class=\"infobox-center\"><span class=\"league-icon-small-image\"><a href=\"/dota2/The_Defense_Season_2\" title=\"The Defense Season 2\"><img alt=\"The Defense Season 2\" height=\"25\" src=\"/commons/images/e/ea/Thedefenselogo_small.png\" width=\"25\"/></a></span></div>\n",
       "</div><div>\n",
       "<div class=\"infobox-header wiki-backgroundcolor-light infobox-header-2\">History</div>\n",
       "</div><div>\n",
       "<div class=\"infobox-cell-2\">Created:</div>\n",
       "<div class=\"infobox-cell-2\">Organization: 2003<br/><a href=\"/dota2/Dota_2\" title=\"Dota 2\"><img alt=\"\" height=\"16\" src=\"/commons/images/thumb/7/76/Dota_2_logo.png/16px-Dota_2_logo.png\" srcset=\"/commons/images/thumb/7/76/Dota_2_logo.png/24px-Dota_2_logo.png 1.5x, /commons/images/thumb/7/76/Dota_2_logo.png/32px-Dota_2_logo.png 2x\" width=\"16\"/></a>Dota 2: 2012-02-16</div>\n",
       "</div></div>"
      ]
     },
     "execution_count": 45,
     "metadata": {},
     "output_type": "execute_result"
    }
   ],
   "source": [
    "descr_box"
   ]
  },
  {
   "cell_type": "code",
   "execution_count": 46,
   "metadata": {},
   "outputs": [],
   "source": [
    "def has_six_characters(css_class):\n",
    "    return css_class is not None and len(css_class) == 6"
   ]
  },
  {
   "cell_type": "code",
   "execution_count": 49,
   "metadata": {},
   "outputs": [
    {
     "data": {
      "text/plain": [
       "False"
      ]
     },
     "execution_count": 49,
     "metadata": {},
     "output_type": "execute_result"
    }
   ],
   "source": [
    "has_six_characters"
   ]
  },
  {
   "cell_type": "code",
   "execution_count": null,
   "metadata": {},
   "outputs": [],
   "source": [
    ".find_all(class_=has_six_characters)\n"
   ]
  },
  {
   "cell_type": "code",
   "execution_count": 107,
   "metadata": {},
   "outputs": [
    {
     "data": {
      "text/plain": [
       "['Region:', 'Manager:', 'Sponsor:', 'Pro Circuit Rank:']"
      ]
     },
     "execution_count": 107,
     "metadata": {},
     "output_type": "execute_result"
    }
   ],
   "source": [
    "keys"
   ]
  },
  {
   "cell_type": "code",
   "execution_count": 108,
   "metadata": {},
   "outputs": [
    {
     "data": {
      "text/plain": [
       "[[],\n",
       " ['', '', ''],\n",
       " [],\n",
       " ['', '', ''],\n",
       " [],\n",
       " ['', '', ''],\n",
       " [],\n",
       " ['', ''],\n",
       " [],\n",
       " ['', '', ''],\n",
       " [],\n",
       " ['Monster Energy',\n",
       "  'Monster Energy',\n",
       "  'Monster Energy',\n",
       "  'Monster Energy',\n",
       "  'Monster Energy',\n",
       "  'Monster Energy',\n",
       "  'Monster Energy',\n",
       "  'Monster Energy',\n",
       "  'Monster Energy',\n",
       "  'Monster Energy'],\n",
       " [],\n",
       " [],\n",
       " [],\n",
       " ['#6\\xa0(2835 points)', '#6\\xa0(2835 points)'],\n",
       " [],\n",
       " []]"
      ]
     },
     "execution_count": 108,
     "metadata": {},
     "output_type": "execute_result"
    }
   ],
   "source": [
    "vals"
   ]
  },
  {
   "cell_type": "code",
   "execution_count": 53,
   "metadata": {},
   "outputs": [
    {
     "data": {
      "text/plain": [
       "<div class=\"infobox-cell-2 infobox-description\">Location:</div>"
      ]
     },
     "execution_count": 53,
     "metadata": {},
     "output_type": "execute_result"
    }
   ],
   "source": [
    "descr_box.find_all(class_=vals_finder)[0]"
   ]
  },
  {
   "cell_type": "code",
   "execution_count": 58,
   "metadata": {},
   "outputs": [],
   "source": [
    "def vals_finder(css_class):\n",
    "    return css_class is not None and 'infobox-cell-2' in css_class and 'infobox-description' not in css_class"
   ]
  },
  {
   "cell_type": "code",
   "execution_count": 59,
   "metadata": {},
   "outputs": [
    {
     "data": {
      "text/plain": [
       "False"
      ]
     },
     "execution_count": 59,
     "metadata": {},
     "output_type": "execute_result"
    }
   ],
   "source": [
    "vals_finder('infobox-cell-2 infobox-description')"
   ]
  },
  {
   "cell_type": "code",
   "execution_count": 71,
   "metadata": {},
   "outputs": [],
   "source": [
    "l = descr_box.find_all(class_=vals_finder)"
   ]
  },
  {
   "cell_type": "code",
   "execution_count": 81,
   "metadata": {},
   "outputs": [
    {
     "data": {
      "text/plain": [
       "6"
      ]
     },
     "execution_count": 81,
     "metadata": {},
     "output_type": "execute_result"
    }
   ],
   "source": [
    "len(l[1::3])"
   ]
  },
  {
   "cell_type": "code",
   "execution_count": 82,
   "metadata": {},
   "outputs": [
    {
     "data": {
      "text/plain": [
       "9"
      ]
     },
     "execution_count": 82,
     "metadata": {},
     "output_type": "execute_result"
    }
   ],
   "source": [
    "len(l[0::2])"
   ]
  },
  {
   "cell_type": "code",
   "execution_count": 89,
   "metadata": {},
   "outputs": [
    {
     "data": {
      "text/plain": [
       "18"
      ]
     },
     "execution_count": 89,
     "metadata": {},
     "output_type": "execute_result"
    }
   ],
   "source": [
    "len(l)\n"
   ]
  },
  {
   "cell_type": "code",
   "execution_count": 92,
   "metadata": {},
   "outputs": [
    {
     "data": {
      "text/plain": [
       "9"
      ]
     },
     "execution_count": 92,
     "metadata": {},
     "output_type": "execute_result"
    }
   ],
   "source": [
    "len(l[1::2])"
   ]
  },
  {
   "cell_type": "code",
   "execution_count": 104,
   "metadata": {},
   "outputs": [
    {
     "data": {
      "text/plain": [
       "<div class=\"infobox-cell-2\"><a href=\"/dota2/Category:China\" title=\"China\"><img alt=\"China\" height=\"12\" src=\"/commons/images/c/cd/Cn.png\" width=\"18\"/></a> <a href=\"/dota2/Fenrir\" title=\"Fenrir\">Fenrir</a></div>"
      ]
     },
     "execution_count": 104,
     "metadata": {},
     "output_type": "execute_result"
    }
   ],
   "source": [
    "l[1::2][4]\n"
   ]
  },
  {
   "cell_type": "code",
   "execution_count": 84,
   "metadata": {},
   "outputs": [
    {
     "data": {
      "text/plain": [
       "[]"
      ]
     },
     "execution_count": 84,
     "metadata": {},
     "output_type": "execute_result"
    }
   ],
   "source": [
    "descr_box.find_all('a', class_=\"infobox-cell-2\")"
   ]
  },
  {
   "cell_type": "code",
   "execution_count": 87,
   "metadata": {},
   "outputs": [
    {
     "data": {
      "text/plain": [
       "True"
      ]
     },
     "execution_count": 87,
     "metadata": {},
     "output_type": "execute_result"
    }
   ],
   "source": [
    "vals_finder('infobox-cell-2')"
   ]
  },
  {
   "cell_type": "code",
   "execution_count": null,
   "metadata": {},
   "outputs": [],
   "source": []
  }
 ],
 "metadata": {
  "kernelspec": {
   "display_name": "Python 3",
   "language": "python",
   "name": "python3"
  },
  "language_info": {
   "codemirror_mode": {
    "name": "ipython",
    "version": 3
   },
   "file_extension": ".py",
   "mimetype": "text/x-python",
   "name": "python",
   "nbconvert_exporter": "python",
   "pygments_lexer": "ipython3",
   "version": "3.6.4"
  }
 },
 "nbformat": 4,
 "nbformat_minor": 2
}
