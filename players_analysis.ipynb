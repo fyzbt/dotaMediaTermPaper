{
 "cells": [
  {
   "cell_type": "code",
   "execution_count": 8,
   "metadata": {},
   "outputs": [],
   "source": [
    "import pandas as pd"
   ]
  },
  {
   "cell_type": "code",
   "execution_count": 12,
   "metadata": {},
   "outputs": [],
   "source": [
    "players_df = pd.read_csv('~/dotaMediaTermPaper/data/players_df.csv', index_col=0)\n",
    "players_df = players_df.rename(columns={'search_count':'search_count_player', 'total_earn':'total_earn_player'})\n"
   ]
  },
  {
   "cell_type": "code",
   "execution_count": 13,
   "metadata": {},
   "outputs": [
    {
     "data": {
      "text/html": [
       "<div>\n",
       "<style scoped>\n",
       "    .dataframe tbody tr th:only-of-type {\n",
       "        vertical-align: middle;\n",
       "    }\n",
       "\n",
       "    .dataframe tbody tr th {\n",
       "        vertical-align: top;\n",
       "    }\n",
       "\n",
       "    .dataframe thead th {\n",
       "        text-align: right;\n",
       "    }\n",
       "</style>\n",
       "<table border=\"1\" class=\"dataframe\">\n",
       "  <thead>\n",
       "    <tr style=\"text-align: right;\">\n",
       "      <th></th>\n",
       "      <th>name</th>\n",
       "      <th>search_count_player</th>\n",
       "      <th>ID</th>\n",
       "      <th>Team</th>\n",
       "      <th>status</th>\n",
       "      <th>total_earn_player</th>\n",
       "    </tr>\n",
       "  </thead>\n",
       "  <tbody>\n",
       "    <tr>\n",
       "      <th>0</th>\n",
       "      <td>Egor Zhabotinskii</td>\n",
       "      <td>52600</td>\n",
       "      <td>.Ark</td>\n",
       "      <td>NaN</td>\n",
       "      <td>Active\\n</td>\n",
       "      <td>6529.0</td>\n",
       "    </tr>\n",
       "    <tr>\n",
       "      <th>1</th>\n",
       "      <td>Jon Andersen</td>\n",
       "      <td>45100000</td>\n",
       "      <td>13abyKnight</td>\n",
       "      <td>NaN</td>\n",
       "      <td>Active\\n</td>\n",
       "      <td>101159.0</td>\n",
       "    </tr>\n",
       "    <tr>\n",
       "      <th>2</th>\n",
       "      <td>Sivatheeban Sivanathapillai</td>\n",
       "      <td>1020</td>\n",
       "      <td>1437</td>\n",
       "      <td>TNC Tiger</td>\n",
       "      <td>Active\\n</td>\n",
       "      <td>193527.0</td>\n",
       "    </tr>\n",
       "    <tr>\n",
       "      <th>3</th>\n",
       "      <td>Zeng Chen</td>\n",
       "      <td>914000</td>\n",
       "      <td>290</td>\n",
       "      <td>PiPiXia</td>\n",
       "      <td>Active\\n</td>\n",
       "      <td>2869.0</td>\n",
       "    </tr>\n",
       "    <tr>\n",
       "      <th>4</th>\n",
       "      <td>James Harding</td>\n",
       "      <td>6830000</td>\n",
       "      <td>2GD</td>\n",
       "      <td>NaN</td>\n",
       "      <td>Inactive\\n</td>\n",
       "      <td>NaN</td>\n",
       "    </tr>\n",
       "  </tbody>\n",
       "</table>\n",
       "</div>"
      ],
      "text/plain": [
       "                          name  search_count_player           ID       Team  \\\n",
       "0            Egor Zhabotinskii                52600         .Ark        NaN   \n",
       "1                 Jon Andersen             45100000  13abyKnight        NaN   \n",
       "2  Sivatheeban Sivanathapillai                 1020         1437  TNC Tiger   \n",
       "3                    Zeng Chen               914000          290    PiPiXia   \n",
       "4                James Harding              6830000          2GD        NaN   \n",
       "\n",
       "       status  total_earn_player  \n",
       "0    Active\\n             6529.0  \n",
       "1    Active\\n           101159.0  \n",
       "2    Active\\n           193527.0  \n",
       "3    Active\\n             2869.0  \n",
       "4  Inactive\\n                NaN  "
      ]
     },
     "execution_count": 13,
     "metadata": {},
     "output_type": "execute_result"
    }
   ],
   "source": [
    "players_df.head()"
   ]
  },
  {
   "cell_type": "code",
   "execution_count": null,
   "metadata": {},
   "outputs": [],
   "source": []
  }
 ],
 "metadata": {
  "kernelspec": {
   "display_name": "Python 3",
   "language": "python",
   "name": "python3"
  },
  "language_info": {
   "codemirror_mode": {
    "name": "ipython",
    "version": 3
   },
   "file_extension": ".py",
   "mimetype": "text/x-python",
   "name": "python",
   "nbconvert_exporter": "python",
   "pygments_lexer": "ipython3",
   "version": "3.6.4"
  }
 },
 "nbformat": 4,
 "nbformat_minor": 2
}
