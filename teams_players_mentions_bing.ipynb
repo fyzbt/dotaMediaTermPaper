{
 "cells": [
  {
   "cell_type": "markdown",
   "metadata": {},
   "source": [
    "## Get number of search requests for each team with Bing API"
   ]
  },
  {
   "cell_type": "code",
   "execution_count": 5,
   "metadata": {},
   "outputs": [],
   "source": [
    "import pandas as pd\n",
    "import requests"
   ]
  },
  {
   "cell_type": "code",
   "execution_count": 9,
   "metadata": {},
   "outputs": [],
   "source": [
    "teams_list = pd.read_csv('~/dotaMediaTermPaper/data/teams_df.csv')['name'].tolist()"
   ]
  },
  {
   "cell_type": "code",
   "execution_count": 13,
   "metadata": {},
   "outputs": [
    {
     "data": {
      "text/plain": [
       "'Team Secret'"
      ]
     },
     "execution_count": 13,
     "metadata": {},
     "output_type": "execute_result"
    }
   ],
   "source": [
    "teams_list[20]"
   ]
  },
  {
   "cell_type": "code",
   "execution_count": 2,
   "metadata": {},
   "outputs": [],
   "source": [
    "subscription_key = '269b18656960431c9cf7a2f2a943e15c' # active only for 7 days, fella"
   ]
  },
  {
   "cell_type": "code",
   "execution_count": 3,
   "metadata": {},
   "outputs": [],
   "source": [
    "search_url = \"https://api.cognitive.microsoft.com/bing/v7.0/search\""
   ]
  },
  {
   "cell_type": "code",
   "execution_count": 32,
   "metadata": {},
   "outputs": [],
   "source": [
    "team_search_count = {}\n",
    "\n",
    "for team in teams_list:\n",
    "    headers = {\"Ocp-Apim-Subscription-Key\" : subscription_key}\n",
    "    params  = {\"q\": \"{team} dota team\".format(team=team), \n",
    "               \"textDecorations\":True, \n",
    "               \"textFormat\":\"HTML\"}\n",
    "    response = requests.get(search_url, headers=headers, params=params)\n",
    "    response.raise_for_status()\n",
    "    search_results = response.json()\n",
    "    if search_results['webPages']['totalEstimatedMatches'] is not None:\n",
    "        count_search = search_results['webPages']['totalEstimatedMatches']\n",
    "    else:\n",
    "        count_search = 0\n",
    "    team_search_count.update({team:count_search})"
   ]
  },
  {
   "cell_type": "code",
   "execution_count": 34,
   "metadata": {},
   "outputs": [
    {
     "data": {
      "text/plain": [
       "49"
      ]
     },
     "execution_count": 34,
     "metadata": {},
     "output_type": "execute_result"
    }
   ],
   "source": [
    "len(team_search_count)"
   ]
  },
  {
   "cell_type": "code",
   "execution_count": 42,
   "metadata": {},
   "outputs": [],
   "source": [
    "# adding search count to teams data\n",
    "team_search_count_df = pd.DataFrame.from_dict(team_search_count, orient='index').reset_index()\n",
    "team_search_count_df.columns = ['name', 'search_count']\n",
    "teams_df = pd.read_csv('~/dotaMediaTermPaper/data/teams_df.csv')\n",
    "\n",
    "teams_df = pd.merge(team_search_count_df, teams_df, on='name', how='right')"
   ]
  },
  {
   "cell_type": "code",
   "execution_count": 43,
   "metadata": {},
   "outputs": [
    {
     "data": {
      "text/html": [
       "<div>\n",
       "<style scoped>\n",
       "    .dataframe tbody tr th:only-of-type {\n",
       "        vertical-align: middle;\n",
       "    }\n",
       "\n",
       "    .dataframe tbody tr th {\n",
       "        vertical-align: top;\n",
       "    }\n",
       "\n",
       "    .dataframe thead th {\n",
       "        text-align: right;\n",
       "    }\n",
       "</style>\n",
       "<table border=\"1\" class=\"dataframe\">\n",
       "  <thead>\n",
       "    <tr style=\"text-align: right;\">\n",
       "      <th></th>\n",
       "      <th>name</th>\n",
       "      <th>search_count</th>\n",
       "      <th>Unnamed: 0</th>\n",
       "      <th>created_year</th>\n",
       "      <th>location</th>\n",
       "      <th>manager</th>\n",
       "      <th>manager_from</th>\n",
       "      <th>points</th>\n",
       "      <th>rank</th>\n",
       "      <th>region</th>\n",
       "      <th>total_earnings</th>\n",
       "    </tr>\n",
       "  </thead>\n",
       "  <tbody>\n",
       "    <tr>\n",
       "      <th>0</th>\n",
       "      <td>compLexity Gaming</td>\n",
       "      <td>2390000</td>\n",
       "      <td>0</td>\n",
       "      <td>Organization: 2003Dota 2: 2012-02-16</td>\n",
       "      <td>USA</td>\n",
       "      <td>Joshua Schmidt</td>\n",
       "      <td>USA</td>\n",
       "      <td>135.0</td>\n",
       "      <td>19.0</td>\n",
       "      <td>North America</td>\n",
       "      <td>825959.0</td>\n",
       "    </tr>\n",
       "    <tr>\n",
       "      <th>1</th>\n",
       "      <td>Evil Geniuses</td>\n",
       "      <td>675000</td>\n",
       "      <td>1</td>\n",
       "      <td>Organization: 1999Dota 2: 2011-10-24</td>\n",
       "      <td>USA</td>\n",
       "      <td>Phillip Aram</td>\n",
       "      <td>USA</td>\n",
       "      <td>1335.0</td>\n",
       "      <td>11.0</td>\n",
       "      <td>North America</td>\n",
       "      <td>15144669.0</td>\n",
       "    </tr>\n",
       "    <tr>\n",
       "      <th>2</th>\n",
       "      <td>Immortals</td>\n",
       "      <td>3260000</td>\n",
       "      <td>2</td>\n",
       "      <td>Organization: 2015-10-07Dota 2: 2017-09-13</td>\n",
       "      <td>USA</td>\n",
       "      <td>Josh Arkin</td>\n",
       "      <td>USA</td>\n",
       "      <td>90.0</td>\n",
       "      <td>21.0</td>\n",
       "      <td>North America</td>\n",
       "      <td>47500.0</td>\n",
       "    </tr>\n",
       "    <tr>\n",
       "      <th>3</th>\n",
       "      <td>OpTic Gaming</td>\n",
       "      <td>2390000</td>\n",
       "      <td>3</td>\n",
       "      <td>Organization: 2006Dota 2: 2017-09-26</td>\n",
       "      <td>USA</td>\n",
       "      <td>Kodiak Shroyer</td>\n",
       "      <td>USA</td>\n",
       "      <td>1800.0</td>\n",
       "      <td>9.0</td>\n",
       "      <td>North America</td>\n",
       "      <td>495800.0</td>\n",
       "    </tr>\n",
       "    <tr>\n",
       "      <th>4</th>\n",
       "      <td>VGJ.Storm</td>\n",
       "      <td>2780000</td>\n",
       "      <td>4</td>\n",
       "      <td>NaN</td>\n",
       "      <td>USA</td>\n",
       "      <td>KBBQ</td>\n",
       "      <td>USA</td>\n",
       "      <td>NaN</td>\n",
       "      <td>NaN</td>\n",
       "      <td>North America</td>\n",
       "      <td>342000.0</td>\n",
       "    </tr>\n",
       "  </tbody>\n",
       "</table>\n",
       "</div>"
      ],
      "text/plain": [
       "                name  search_count  Unnamed: 0  \\\n",
       "0  compLexity Gaming       2390000           0   \n",
       "1      Evil Geniuses        675000           1   \n",
       "2          Immortals       3260000           2   \n",
       "3       OpTic Gaming       2390000           3   \n",
       "4          VGJ.Storm       2780000           4   \n",
       "\n",
       "                                 created_year location          manager  \\\n",
       "0        Organization: 2003Dota 2: 2012-02-16      USA   Joshua Schmidt   \n",
       "1        Organization: 1999Dota 2: 2011-10-24      USA     Phillip Aram   \n",
       "2  Organization: 2015-10-07Dota 2: 2017-09-13      USA       Josh Arkin   \n",
       "3        Organization: 2006Dota 2: 2017-09-26      USA   Kodiak Shroyer   \n",
       "4                                         NaN      USA             KBBQ   \n",
       "\n",
       "  manager_from  points  rank         region  total_earnings  \n",
       "0          USA   135.0  19.0  North America        825959.0  \n",
       "1          USA  1335.0  11.0  North America      15144669.0  \n",
       "2          USA    90.0  21.0  North America         47500.0  \n",
       "3          USA  1800.0   9.0  North America        495800.0  \n",
       "4          USA     NaN   NaN  North America        342000.0  "
      ]
     },
     "execution_count": 43,
     "metadata": {},
     "output_type": "execute_result"
    }
   ],
   "source": [
    "teams_df.head()"
   ]
  },
  {
   "cell_type": "code",
   "execution_count": 44,
   "metadata": {},
   "outputs": [],
   "source": [
    "teams_df.to_csv('~/dotaMediaTermPaper/data/teams_df.csv')"
   ]
  },
  {
   "cell_type": "markdown",
   "metadata": {},
   "source": [
    "## Get number of search requests for each player with Bing API"
   ]
  },
  {
   "cell_type": "code",
   "execution_count": 20,
   "metadata": {},
   "outputs": [],
   "source": [
    "import pandas as pd\n",
    "import requests"
   ]
  },
  {
   "cell_type": "code",
   "execution_count": 21,
   "metadata": {},
   "outputs": [],
   "source": [
    "players_list = pd.read_csv('~/dotaMediaTermPaper/data/players_df.csv')['Name'].tolist()"
   ]
  },
  {
   "cell_type": "code",
   "execution_count": 22,
   "metadata": {},
   "outputs": [
    {
     "data": {
      "text/plain": [
       "'Abed Azel L. Yusop'"
      ]
     },
     "execution_count": 22,
     "metadata": {},
     "output_type": "execute_result"
    }
   ],
   "source": [
    "players_list[20]"
   ]
  },
  {
   "cell_type": "code",
   "execution_count": 23,
   "metadata": {},
   "outputs": [],
   "source": [
    "subscription_key = '269b18656960431c9cf7a2f2a943e15c' # active only for 7 days, fella"
   ]
  },
  {
   "cell_type": "code",
   "execution_count": 24,
   "metadata": {},
   "outputs": [],
   "source": [
    "search_url = \"https://api.cognitive.microsoft.com/bing/v7.0/search\""
   ]
  },
  {
   "cell_type": "code",
   "execution_count": 25,
   "metadata": {},
   "outputs": [],
   "source": [
    "player_search_count = {}\n",
    "\n",
    "for player in players_list:\n",
    "    headers = {\"Ocp-Apim-Subscription-Key\" : subscription_key}\n",
    "    params  = {\"q\": \"{player} dota\".format(player=player), \n",
    "               \"textDecorations\":True, \n",
    "               \"textFormat\":\"HTML\"}\n",
    "    response = requests.get(search_url, headers=headers, params=params)\n",
    "    response.raise_for_status()\n",
    "    search_results = response.json()\n",
    "    if search_results['webPages']['totalEstimatedMatches'] is not None:\n",
    "        count_search = search_results['webPages']['totalEstimatedMatches']\n",
    "    else:\n",
    "        count_search = 0\n",
    "    player_search_count.update({player:count_search})"
   ]
  },
  {
   "cell_type": "code",
   "execution_count": 26,
   "metadata": {},
   "outputs": [
    {
     "data": {
      "text/plain": [
       "819"
      ]
     },
     "execution_count": 26,
     "metadata": {},
     "output_type": "execute_result"
    }
   ],
   "source": [
    "len(player_search_count)"
   ]
  },
  {
   "cell_type": "code",
   "execution_count": 28,
   "metadata": {},
   "outputs": [],
   "source": [
    "# adding search count to teams data\n",
    "player_search_count_df = pd.DataFrame.from_dict(player_search_count, orient='index').reset_index()\n",
    "player_search_count_df.columns = ['name', 'search_count']\n",
    "players_df = pd.read_csv('~/dotaMediaTermPaper/data/players_df.csv')\n",
    "\n",
    "players_df = pd.merge(player_search_count_df, players_df, left_on='name', right_on='Name', how='right')"
   ]
  },
  {
   "cell_type": "code",
   "execution_count": 31,
   "metadata": {
    "scrolled": true
   },
   "outputs": [
    {
     "data": {
      "text/html": [
       "<div>\n",
       "<style scoped>\n",
       "    .dataframe tbody tr th:only-of-type {\n",
       "        vertical-align: middle;\n",
       "    }\n",
       "\n",
       "    .dataframe tbody tr th {\n",
       "        vertical-align: top;\n",
       "    }\n",
       "\n",
       "    .dataframe thead th {\n",
       "        text-align: right;\n",
       "    }\n",
       "</style>\n",
       "<table border=\"1\" class=\"dataframe\">\n",
       "  <thead>\n",
       "    <tr style=\"text-align: right;\">\n",
       "      <th></th>\n",
       "      <th>name</th>\n",
       "      <th>search_count</th>\n",
       "      <th>Unnamed: 0</th>\n",
       "      <th>ID</th>\n",
       "      <th>Name</th>\n",
       "      <th>Team</th>\n",
       "      <th>player_id</th>\n",
       "      <th>status</th>\n",
       "      <th>total_earn</th>\n",
       "    </tr>\n",
       "  </thead>\n",
       "  <tbody>\n",
       "    <tr>\n",
       "      <th>0</th>\n",
       "      <td>Egor Zhabotinskii</td>\n",
       "      <td>52600</td>\n",
       "      <td>0</td>\n",
       "      <td>.Ark</td>\n",
       "      <td>Egor Zhabotinskii</td>\n",
       "      <td>NaN</td>\n",
       "      <td>.Ark</td>\n",
       "      <td>Active\\n</td>\n",
       "      <td>6529.0</td>\n",
       "    </tr>\n",
       "    <tr>\n",
       "      <th>1</th>\n",
       "      <td>Jon Andersen</td>\n",
       "      <td>45100000</td>\n",
       "      <td>1</td>\n",
       "      <td>13abyKnight</td>\n",
       "      <td>Jon Andersen</td>\n",
       "      <td>NaN</td>\n",
       "      <td>13abyKnight</td>\n",
       "      <td>Active\\n</td>\n",
       "      <td>101159.0</td>\n",
       "    </tr>\n",
       "    <tr>\n",
       "      <th>2</th>\n",
       "      <td>Sivatheeban Sivanathapillai</td>\n",
       "      <td>1020</td>\n",
       "      <td>2</td>\n",
       "      <td>1437</td>\n",
       "      <td>Sivatheeban Sivanathapillai</td>\n",
       "      <td>TNC Tiger</td>\n",
       "      <td>1437</td>\n",
       "      <td>Active\\n</td>\n",
       "      <td>193527.0</td>\n",
       "    </tr>\n",
       "    <tr>\n",
       "      <th>3</th>\n",
       "      <td>Zeng Chen</td>\n",
       "      <td>914000</td>\n",
       "      <td>3</td>\n",
       "      <td>290</td>\n",
       "      <td>Zeng Chen</td>\n",
       "      <td>PiPiXia</td>\n",
       "      <td>290</td>\n",
       "      <td>Active\\n</td>\n",
       "      <td>2869.0</td>\n",
       "    </tr>\n",
       "    <tr>\n",
       "      <th>4</th>\n",
       "      <td>James Harding</td>\n",
       "      <td>6830000</td>\n",
       "      <td>4</td>\n",
       "      <td>2GD</td>\n",
       "      <td>James Harding</td>\n",
       "      <td>NaN</td>\n",
       "      <td>2GD</td>\n",
       "      <td>Inactive\\n</td>\n",
       "      <td>NaN</td>\n",
       "    </tr>\n",
       "  </tbody>\n",
       "</table>\n",
       "</div>"
      ],
      "text/plain": [
       "                          name  search_count  Unnamed: 0           ID  \\\n",
       "0            Egor Zhabotinskii         52600           0         .Ark   \n",
       "1                 Jon Andersen      45100000           1  13abyKnight   \n",
       "2  Sivatheeban Sivanathapillai          1020           2         1437   \n",
       "3                    Zeng Chen        914000           3          290   \n",
       "4                James Harding       6830000           4          2GD   \n",
       "\n",
       "                          Name       Team    player_id      status  total_earn  \n",
       "0            Egor Zhabotinskii        NaN         .Ark    Active\\n      6529.0  \n",
       "1                 Jon Andersen        NaN  13abyKnight    Active\\n    101159.0  \n",
       "2  Sivatheeban Sivanathapillai  TNC Tiger         1437    Active\\n    193527.0  \n",
       "3                    Zeng Chen    PiPiXia          290    Active\\n      2869.0  \n",
       "4                James Harding        NaN          2GD  Inactive\\n         NaN  "
      ]
     },
     "execution_count": 31,
     "metadata": {},
     "output_type": "execute_result"
    }
   ],
   "source": [
    "players_df.head()"
   ]
  },
  {
   "cell_type": "code",
   "execution_count": 32,
   "metadata": {},
   "outputs": [],
   "source": [
    "players_df.drop(columns={'player_id', 'Unnamed: 0', 'Name'}, inplace=True)\n",
    "players_df.to_csv('~/dotaMediaTermPaper/data/players_df.csv')"
   ]
  },
  {
   "cell_type": "code",
   "execution_count": null,
   "metadata": {},
   "outputs": [],
   "source": []
  }
 ],
 "metadata": {
  "kernelspec": {
   "display_name": "Python 3",
   "language": "python",
   "name": "python3"
  },
  "language_info": {
   "codemirror_mode": {
    "name": "ipython",
    "version": 3
   },
   "file_extension": ".py",
   "mimetype": "text/x-python",
   "name": "python",
   "nbconvert_exporter": "python",
   "pygments_lexer": "ipython3",
   "version": "3.6.4"
  }
 },
 "nbformat": 4,
 "nbformat_minor": 2
}
